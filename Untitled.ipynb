{
 "cells": [
  {
   "cell_type": "code",
   "execution_count": 3,
   "metadata": {},
   "outputs": [],
   "source": [
    "import pandas as pd\n",
    "import numpy as np\n",
    "import sklearn\n",
    "from sklearn import linear_model\n",
    "from sklearn.utils import shuffle\n"
   ]
  },
  {
   "cell_type": "markdown",
   "metadata": {},
   "source": [
    "data = pd.read_csv(\"student-mat.csv\", sep=\";\")\n",
    "\n",
    "data = data[[\"G1\", \"G2\", \"G3\", \"studytime\", \"failures\", \"absences\"]]\n",
    "\n",
    "predict = \"G3\"\n",
    "\n",
    "X = np.array(data.drop([predict], 1))\n",
    "y = np.array(data[predict])\n",
    "\n",
    "x_train, x_test, y_train, y_test = sklearn.model_selection.train_test_split(X, y, test_size = 0.1)\n"
   ]
  },
  {
   "cell_type": "code",
   "execution_count": 4,
   "metadata": {},
   "outputs": [],
   "source": [
    "data=pd.read_csv(\"student-mat.csv\",sep=\";\")"
   ]
  },
  {
   "cell_type": "code",
   "execution_count": 6,
   "metadata": {},
   "outputs": [
    {
     "name": "stdout",
     "output_type": "stream",
     "text": [
      "<class 'pandas.core.frame.DataFrame'>\n",
      "RangeIndex: 395 entries, 0 to 394\n",
      "Data columns (total 33 columns):\n",
      "school        395 non-null object\n",
      "sex           395 non-null object\n",
      "age           395 non-null int64\n",
      "address       395 non-null object\n",
      "famsize       395 non-null object\n",
      "Pstatus       395 non-null object\n",
      "Medu          395 non-null int64\n",
      "Fedu          395 non-null int64\n",
      "Mjob          395 non-null object\n",
      "Fjob          395 non-null object\n",
      "reason        395 non-null object\n",
      "guardian      395 non-null object\n",
      "traveltime    395 non-null int64\n",
      "studytime     395 non-null int64\n",
      "failures      395 non-null int64\n",
      "schoolsup     395 non-null object\n",
      "famsup        395 non-null object\n",
      "paid          395 non-null object\n",
      "activities    395 non-null object\n",
      "nursery       395 non-null object\n",
      "higher        395 non-null object\n",
      "internet      395 non-null object\n",
      "romantic      395 non-null object\n",
      "famrel        395 non-null int64\n",
      "freetime      395 non-null int64\n",
      "goout         395 non-null int64\n",
      "Dalc          395 non-null int64\n",
      "Walc          395 non-null int64\n",
      "health        395 non-null int64\n",
      "absences      395 non-null int64\n",
      "G1            395 non-null int64\n",
      "G2            395 non-null int64\n",
      "G3            395 non-null int64\n",
      "dtypes: int64(16), object(17)\n",
      "memory usage: 101.9+ KB\n"
     ]
    }
   ],
   "source": [
    "data.info()"
   ]
  },
  {
   "cell_type": "code",
   "execution_count": 7,
   "metadata": {},
   "outputs": [],
   "source": [
    "data = data[[\"G1\", \"G2\", \"G3\", \"studytime\", \"failures\", \"absences\"]]"
   ]
  },
  {
   "cell_type": "code",
   "execution_count": 8,
   "metadata": {},
   "outputs": [
    {
     "data": {
      "text/html": [
       "<div>\n",
       "<style scoped>\n",
       "    .dataframe tbody tr th:only-of-type {\n",
       "        vertical-align: middle;\n",
       "    }\n",
       "\n",
       "    .dataframe tbody tr th {\n",
       "        vertical-align: top;\n",
       "    }\n",
       "\n",
       "    .dataframe thead th {\n",
       "        text-align: right;\n",
       "    }\n",
       "</style>\n",
       "<table border=\"1\" class=\"dataframe\">\n",
       "  <thead>\n",
       "    <tr style=\"text-align: right;\">\n",
       "      <th></th>\n",
       "      <th>G1</th>\n",
       "      <th>G2</th>\n",
       "      <th>G3</th>\n",
       "      <th>studytime</th>\n",
       "      <th>failures</th>\n",
       "      <th>absences</th>\n",
       "    </tr>\n",
       "  </thead>\n",
       "  <tbody>\n",
       "    <tr>\n",
       "      <th>0</th>\n",
       "      <td>5</td>\n",
       "      <td>6</td>\n",
       "      <td>6</td>\n",
       "      <td>2</td>\n",
       "      <td>0</td>\n",
       "      <td>6</td>\n",
       "    </tr>\n",
       "    <tr>\n",
       "      <th>1</th>\n",
       "      <td>5</td>\n",
       "      <td>5</td>\n",
       "      <td>6</td>\n",
       "      <td>2</td>\n",
       "      <td>0</td>\n",
       "      <td>4</td>\n",
       "    </tr>\n",
       "    <tr>\n",
       "      <th>2</th>\n",
       "      <td>7</td>\n",
       "      <td>8</td>\n",
       "      <td>10</td>\n",
       "      <td>2</td>\n",
       "      <td>3</td>\n",
       "      <td>10</td>\n",
       "    </tr>\n",
       "    <tr>\n",
       "      <th>3</th>\n",
       "      <td>15</td>\n",
       "      <td>14</td>\n",
       "      <td>15</td>\n",
       "      <td>3</td>\n",
       "      <td>0</td>\n",
       "      <td>2</td>\n",
       "    </tr>\n",
       "    <tr>\n",
       "      <th>4</th>\n",
       "      <td>6</td>\n",
       "      <td>10</td>\n",
       "      <td>10</td>\n",
       "      <td>2</td>\n",
       "      <td>0</td>\n",
       "      <td>4</td>\n",
       "    </tr>\n",
       "  </tbody>\n",
       "</table>\n",
       "</div>"
      ],
      "text/plain": [
       "   G1  G2  G3  studytime  failures  absences\n",
       "0   5   6   6          2         0         6\n",
       "1   5   5   6          2         0         4\n",
       "2   7   8  10          2         3        10\n",
       "3  15  14  15          3         0         2\n",
       "4   6  10  10          2         0         4"
      ]
     },
     "execution_count": 8,
     "metadata": {},
     "output_type": "execute_result"
    }
   ],
   "source": [
    "data.head()"
   ]
  },
  {
   "cell_type": "code",
   "execution_count": 10,
   "metadata": {},
   "outputs": [],
   "source": [
    "predict = \"G3\""
   ]
  },
  {
   "cell_type": "code",
   "execution_count": 11,
   "metadata": {},
   "outputs": [],
   "source": [
    "X = np.array(data.drop([predict], 1))"
   ]
  },
  {
   "cell_type": "code",
   "execution_count": 14,
   "metadata": {},
   "outputs": [],
   "source": [
    "Y = np.array(data[predict])"
   ]
  },
  {
   "cell_type": "markdown",
   "metadata": {},
   "source": [
    "x_train, x_test, y_train, y_test = sklearn.model_selection.train_test_split(X, y, test_size = 0.1)"
   ]
  },
  {
   "cell_type": "code",
   "execution_count": 24,
   "metadata": {},
   "outputs": [],
   "source": [
    "x_train,x_test,y_train,y_test=sklearn.model_selection.train_test_split(X,Y,test_size = 0.3)"
   ]
  },
  {
   "cell_type": "code",
   "execution_count": 25,
   "metadata": {},
   "outputs": [],
   "source": [
    "linear= linear_model.LinearRegression()"
   ]
  },
  {
   "cell_type": "code",
   "execution_count": 26,
   "metadata": {},
   "outputs": [
    {
     "data": {
      "text/plain": [
       "LinearRegression(copy_X=True, fit_intercept=True, n_jobs=None,\n",
       "         normalize=False)"
      ]
     },
     "execution_count": 26,
     "metadata": {},
     "output_type": "execute_result"
    }
   ],
   "source": [
    "linear.fit(x_train,y_train)"
   ]
  },
  {
   "cell_type": "code",
   "execution_count": 27,
   "metadata": {},
   "outputs": [],
   "source": [
    "acc=linear.score(x_test,y_test)"
   ]
  },
  {
   "cell_type": "code",
   "execution_count": 28,
   "metadata": {},
   "outputs": [
    {
     "name": "stdout",
     "output_type": "stream",
     "text": [
      "0.8306691741630696\n"
     ]
    }
   ],
   "source": [
    "print(acc)"
   ]
  },
  {
   "cell_type": "code",
   "execution_count": 29,
   "metadata": {},
   "outputs": [
    {
     "name": "stdout",
     "output_type": "stream",
     "text": [
      "Coefficient: \n",
      " [ 0.134455    0.99141272 -0.1510265  -0.19603155  0.03236053]\n",
      "Intercept: \n",
      " -1.5297353522259183\n"
     ]
    }
   ],
   "source": [
    "print('Coefficient: \\n', linear.coef_)\n",
    "print('Intercept: \\n', linear.intercept_)"
   ]
  },
  {
   "cell_type": "code",
   "execution_count": 38,
   "metadata": {},
   "outputs": [],
   "source": [
    "predictions = linear.predict(x_test)"
   ]
  },
  {
   "cell_type": "code",
   "execution_count": 39,
   "metadata": {},
   "outputs": [
    {
     "name": "stdout",
     "output_type": "stream",
     "text": [
      "10.197541204378261 [ 9 11  3  0  2] 11\n",
      "11.159975095372484 [12 11  1  1 16] 12\n",
      "9.318999113660086 [10 10  4  0  6] 11\n",
      "15.05622755103917 [15 15  2  0  0] 15\n",
      "8.42545043981188 [8 9 2 0 8] 10\n",
      "-1.041629817920502 [7 0 3 0 0] 0\n",
      "12.066950748053754 [12 12  2  0 12] 11\n",
      "8.495184380563673 [9 9 2 0 6] 10\n",
      "7.444063472903897 [10  8  2  0  0] 9\n",
      "14.129535890795822 [15 14  2  0  2] 14\n",
      "12.427692286032878 [11 13  4  0  6] 14\n",
      "18.444606890495777 [18 18  3  0  5] 19\n",
      "5.853254187681442 [7 7 2 1 0] 0\n",
      "10.082256938457036 [12 10  2  1 18] 10\n",
      "6.776209120595695 [ 7  8  2  3 10] 10\n",
      "7.834211269949069 [7 9 2 2 6] 8\n",
      "12.611316499091355 [13 12  1  0 20] 12\n",
      "5.774817584527325 [ 8  6  2  0 18] 7\n",
      "-0.4872383108247993 [10  0  2  0  0] 0\n",
      "5.854530338381398 [8 7 2 3 8] 8\n",
      "13.068389227077946 [14 13  2  0  4] 13\n",
      "12.293237282558346 [10 13  4  0  6] 13\n",
      "9.139776240049889 [11  9  1  1 19] 10\n",
      "12.86921316088067 [13 13  2  0  2] 13\n",
      "9.275862422163968 [10 10  3  0  0] 9\n",
      "14.485264550745894 [13 15  4  0  0] 15\n",
      "11.769029858175697 [13 11  3  1 40] 11\n",
      "7.98209325225667 [6 9 1 1 4] 8\n",
      "4.81683640955469 [7 6 1 2 0] 0\n",
      "8.6764658599076 [ 7 10  3  1  0] 10\n",
      "13.123084533742583 [12 13  2  0 14] 12\n",
      "8.710931939958519 [9 9 1 0 8] 10\n",
      "7.1040769081618045 [10  8  1  3  3] 7\n",
      "7.088848032005467 [8 8 3 0 2] 10\n",
      "7.113576917596594 [9 8 2 1 0] 0\n",
      "9.287421037332487 [ 8 10  2  0  4] 10\n",
      "9.230857367003303 [10 10  2  1  0] 0\n",
      "13.257539537217115 [13 13  2  0 14] 14\n",
      "7.789253157744223 [10  8  1  0  6] 11\n",
      "7.730058192102177 [7 9 4 0 0] 0\n",
      "4.061447415552987 [6 5 2 0 4] 6\n",
      "15.379832864652874 [15 15  2  0 10] 15\n",
      "12.088535119280378 [12 12  1  0  8] 12\n",
      "-1.5965814870236668 [5 0 1 3 0] 0\n",
      "8.430463317840934 [9 9 2 0 4] 10\n",
      "11.408931909734472 [12 12  4  0  1] 12\n",
      "10.401730148604585 [11 11  3  0  0] 10\n",
      "8.231287251643659 [8 9 2 0 2] 8\n",
      "16.112361336728 [15 16  2  0  2] 16\n",
      "9.018511030383422 [ 6 10  2  0  4] 10\n",
      "18.078615289462597 [16 18  3  0  2] 18\n",
      "16.29997878775675 [18 16  3  0  0] 16\n",
      "11.85621606668796 [13 12  3  0  6] 12\n",
      "16.123137496862746 [15 16  3  0  7] 15\n",
      "12.819195227690955 [12 13  1  1  6] 14\n",
      "14.921772547564634 [14 15  2  0  0] 16\n",
      "5.7913890777248955 [ 7  6  1  0 18] 6\n",
      "12.195642469422591 [14 12  1  0  3] 12\n",
      "6.297393830270426 [7 7 1 0 3] 8\n",
      "9.642636478230916 [10 10  1  0  2] 10\n",
      "7.434037716845795 [8 8 2 0 8] 6\n",
      "6.092422431010329 [7 7 3 0 6] 7\n",
      "12.01038707772457 [14 12  2  1  8] 12\n",
      "12.80449209815793 [13 13  2  0  0] 13\n",
      "8.34917076192062 [10  9  3  0  2] 8\n",
      "6.313182868434225 [8 7 2 0 4] 6\n",
      "16.161293361286937 [14 16  1  0  3] 16\n",
      "3.735973738274736 [6 5 2 1 0] 0\n",
      "10.828212389365225 [10 11  1  0  8] 10\n",
      "10.483022704524897 [10 11  2  0  2] 11\n",
      "8.564918321315465 [10  9  2  0  4] 9\n",
      "9.35715497808428 [ 9 10  2  0  2] 10\n",
      "14.921772547564634 [14 15  2  0  0] 15\n",
      "12.734758157406139 [12 13  2  0  2] 13\n",
      "10.483022704524897 [10 11  2  0  2] 12\n",
      "11.751502826833606 [14 12  2  1  0] 12\n",
      "11.68963771687706 [14 11  1  0 18] 13\n",
      "10.703783141948794 [11 11  1  0  0] 12\n",
      "8.479395342399874 [8 9 1 0 5] 9\n",
      "11.74334543444005 [12 12  2  0  2] 11\n",
      "-0.6051218211017605 [8 0 1 0 0] 0\n",
      "10.61246482997038 [10 11  2  0  6] 11\n",
      "8.2960083143664 [8 9 2 0 4] 10\n",
      "9.352142100055229 [ 8 10  2  0  6] 10\n",
      "15.12094861376191 [15 15  2  0  2] 16\n",
      "13.003668164355204 [14 13  2  0  2] 13\n",
      "8.564918321315465 [10  9  2  0  4] 11\n",
      "6.997529720027053 [7 8 4 0 8] 8\n",
      "16.24681634020253 [16 16  2  0  2] 17\n",
      "10.55275664527669 [11 11  2  0  0] 10\n",
      "13.65116735318092 [15 14  3  2  4] 15\n",
      "15.115153280699085 [16 15  4  0  7] 17\n",
      "8.958257575680962 [11  9  2  0 12] 9\n",
      "7.326179962626934 [8 8 1 0 0] 11\n",
      "15.33090084009393 [16 15  3  0  9] 16\n",
      "11.927482866550172 [10 12  2  0 16] 11\n",
      "12.600303153931605 [11 13  2  0  2] 14\n",
      "8.109667014037605 [ 6  9  1  2 14] 8\n",
      "6.900685310967944 [ 9  7  2  0 18] 6\n",
      "13.34885784919553 [14 13  1  0  8] 13\n",
      "15.961334840055892 [15 16  3  0  2] 18\n",
      "10.283846638327624 [ 9 11  2  0  0] 12\n",
      "9.022978638403702 [11  9  2  0 14] 9\n",
      "7.631345419378521 [ 9  8  2  1 16] 7\n",
      "15.514287868127406 [16 15  2  0 10] 15\n",
      "8.742510016286117 [11  9  3  0 10] 10\n",
      "14.938344040762205 [13 15  1  0  0] 15\n",
      "9.287421037332487 [ 8 10  2  0  4] 9\n",
      "15.605606180105818 [17 15  1  0  4] 16\n",
      "10.886387714948496 [13 11  2  0  2] 11\n",
      "7.239874528677571 [8 8 2 0 2] 8\n",
      "12.670037094683398 [12 13  2  0  0] 13\n",
      "3.584947241602632 [6 5 3 1 0] 0\n",
      "-0.7614179042133766 [12  0  3  2  0] 0\n",
      "13.774320449897393 [13 14  3  0  4] 14\n",
      "14.323699078964045 [15 14  2  0  8] 14\n",
      "4.1858766629694175 [ 5  5  2  0 12] 5\n",
      "18.77902041520135 [18 18  1  0  6] 18\n",
      "13.930359824598549 [14 14  2  0  0] 14\n"
     ]
    }
   ],
   "source": [
    "for x in range(len(predictions)):\n",
    "    print(predictions[x], x_test[x], y_test[x])"
   ]
  },
  {
   "cell_type": "code",
   "execution_count": null,
   "metadata": {},
   "outputs": [],
   "source": []
  }
 ],
 "metadata": {
  "kernelspec": {
   "display_name": "Python 3",
   "language": "python",
   "name": "python3"
  },
  "language_info": {
   "codemirror_mode": {
    "name": "ipython",
    "version": 3
   },
   "file_extension": ".py",
   "mimetype": "text/x-python",
   "name": "python",
   "nbconvert_exporter": "python",
   "pygments_lexer": "ipython3",
   "version": "3.7.3"
  }
 },
 "nbformat": 4,
 "nbformat_minor": 2
}
